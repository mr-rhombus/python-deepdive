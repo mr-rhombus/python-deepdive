{
 "cells": [
  {
   "cell_type": "code",
   "execution_count": 1,
   "metadata": {},
   "outputs": [],
   "source": [
    "import math"
   ]
  },
  {
   "cell_type": "code",
   "execution_count": 17,
   "metadata": {},
   "outputs": [],
   "source": [
    "class Polygon:\n",
    "    def __init__(self, n_edges, cr):\n",
    "        self.n_edges = n_edges\n",
    "        self.cr = cr\n",
    "\n",
    "        self.n_vertices = n_edges\n",
    "        self.int_angle = (self.n_edges - 2) * (180 // n_edges)\n",
    "        self.edge_length = 2 * cr * math.sin(math.pi / self.n_edges)\n",
    "        self.apothem = self.n_edges * math.cos(math.pi / self.n_edges)\n",
    "        self.area = 0.5 * self.n_edges * self.edge_length * self.apothem\n",
    "        self.perimeter = self.n_edges * self.edge_length\n",
    "\n",
    "    def __repr__(self):\n",
    "        return f'Polygon(n_edges={self.n_edges}, cr={self.cr})'\n",
    "    \n",
    "    def __eq__(self, other):\n",
    "        if isinstance(other, Polygon):\n",
    "            return (self.n_edges == other.n_edges) and (self.cr == other.cr)\n",
    "        else:\n",
    "            raise ValueError('Can only compare Polygons for equality')\n",
    "        \n",
    "    def __gt__(self, other):\n",
    "        if isinstance(other, Polygon):\n",
    "            return self.n_edges > other.n_edges\n",
    "        else:\n",
    "            raise ValueError('Can only compare Polygons for inequality')"
   ]
  },
  {
   "cell_type": "code",
   "execution_count": 21,
   "metadata": {},
   "outputs": [
    {
     "data": {
      "text/plain": [
       "False"
      ]
     },
     "execution_count": 21,
     "metadata": {},
     "output_type": "execute_result"
    }
   ],
   "source": [
    "a = Polygon(3, 5)\n",
    "b = Polygon(4, 4)\n",
    "a > b"
   ]
  },
  {
   "cell_type": "code",
   "execution_count": 27,
   "metadata": {},
   "outputs": [],
   "source": [
    "class Polygons:\n",
    "    def __init__(self, n_edges, cr):\n",
    "        self.n_edges = n_edges\n",
    "        self.cr = cr\n",
    "\n",
    "    def __len__(self):\n",
    "        return self.n_edges\n",
    "    \n",
    "    def __getitem__(self, s):\n",
    "        return self._polygons(self.n_edges)[s]\n",
    "\n",
    "    def _polygons(self, n):\n",
    "        return [Polygon(n_edges, self.cr) for n_edges in range(1, n+1)]"
   ]
  },
  {
   "cell_type": "code",
   "execution_count": 33,
   "metadata": {},
   "outputs": [
    {
     "data": {
      "text/plain": [
       "[Polygon(n_edges=2, cr=5), Polygon(n_edges=3, cr=5)]"
      ]
     },
     "execution_count": 33,
     "metadata": {},
     "output_type": "execute_result"
    }
   ],
   "source": [
    "a = Polygons(7, 5)\n",
    "a[1:3]"
   ]
  },
  {
   "cell_type": "code",
   "execution_count": null,
   "metadata": {},
   "outputs": [],
   "source": []
  }
 ],
 "metadata": {
  "kernelspec": {
   "display_name": "Python 3",
   "language": "python",
   "name": "python3"
  },
  "language_info": {
   "codemirror_mode": {
    "name": "ipython",
    "version": 3
   },
   "file_extension": ".py",
   "mimetype": "text/x-python",
   "name": "python",
   "nbconvert_exporter": "python",
   "pygments_lexer": "ipython3",
   "version": "3.8.10"
  },
  "orig_nbformat": 4
 },
 "nbformat": 4,
 "nbformat_minor": 2
}
