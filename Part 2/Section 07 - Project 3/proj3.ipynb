{
 "cells": [
  {
   "cell_type": "markdown",
   "metadata": {},
   "source": [
    "### Generators project\n",
    "Use lazy evaluation to parse the NY tickets data and store each row as a ticket object with the proper data type for each element of the ticket. Then, tabulate the total number of tickets for each vehicle make."
   ]
  },
  {
   "cell_type": "code",
   "execution_count": 56,
   "metadata": {},
   "outputs": [],
   "source": [
    "from collections import (\n",
    "    namedtuple,\n",
    "    defaultdict)\n",
    "from datetime import datetime\n",
    "\n",
    "def read_data():\n",
    "    with open('nyc_parking_tickets_extract.csv') as f:\n",
    "        for row in f:\n",
    "            cleaned_row = row.strip('\\n').split(',')\n",
    "            yield(cleaned_row)\n",
    "\n",
    "def cast(dtype, val):\n",
    "    if dtype == 'INT':\n",
    "        return int(val)\n",
    "    elif dtype == 'DATE':\n",
    "        return datetime.strptime(val, '%m/%d/%Y').date()\n",
    "    else:\n",
    "        return str(val)\n"
   ]
  },
  {
   "cell_type": "code",
   "execution_count": 57,
   "metadata": {},
   "outputs": [],
   "source": [
    "DTYPES = ['INT', 'STR', 'STR', 'STR', 'DATE', 'INT', 'STR', 'STR', 'STR']\n",
    "tickets = []\n",
    "violations_by_make = defaultdict(int)\n",
    "\n",
    "data = read_data()\n",
    "headers = next(data)\n",
    "headers_str = ' '.join([el.replace(' ', '_') for el in headers])\n",
    "Ticket = namedtuple('Ticket', headers_str)\n",
    "for row in data:\n",
    "    try:\n",
    "        # Store row as ticket\n",
    "        data = [cast(dtype, val) for dtype,val in zip(DTYPES, row)]\n",
    "        ticket = Ticket(*data)\n",
    "        tickets.append(ticket)\n",
    "        # Update violations by make\n",
    "        violations_by_make[ticket.Vehicle_Make] += 1\n",
    "    except TypeError:\n",
    "        print('Unable to turn the capture the following ticket')\n",
    "        print(row)"
   ]
  },
  {
   "cell_type": "code",
   "execution_count": 58,
   "metadata": {},
   "outputs": [
    {
     "data": {
      "text/plain": [
       "[Ticket(Summons_Number=4006478550, Plate_ID='VAD7274', Registration_State='VA', Plate_Type='PAS', Issue_Date=datetime.date(2016, 10, 5), Violation_Code=5, Vehicle_Body_Type='4D', Vehicle_Make='BMW', Violation_Description='BUS LANE VIOLATION'),\n",
       " Ticket(Summons_Number=4006462396, Plate_ID='22834JK', Registration_State='NY', Plate_Type='COM', Issue_Date=datetime.date(2016, 9, 30), Violation_Code=5, Vehicle_Body_Type='VAN', Vehicle_Make='CHEVR', Violation_Description='BUS LANE VIOLATION'),\n",
       " Ticket(Summons_Number=4007117810, Plate_ID='21791MG', Registration_State='NY', Plate_Type='COM', Issue_Date=datetime.date(2017, 4, 10), Violation_Code=5, Vehicle_Body_Type='VAN', Vehicle_Make='DODGE', Violation_Description='BUS LANE VIOLATION')]"
      ]
     },
     "execution_count": 58,
     "metadata": {},
     "output_type": "execute_result"
    }
   ],
   "source": [
    "tickets[:3]"
   ]
  },
  {
   "cell_type": "code",
   "execution_count": 55,
   "metadata": {},
   "outputs": [
    {
     "data": {
      "text/plain": [
       "defaultdict(int,\n",
       "            {'BMW': 34,\n",
       "             'CHEVR': 76,\n",
       "             'DODGE': 45,\n",
       "             'FORD': 104,\n",
       "             'FRUEH': 44,\n",
       "             'HONDA': 106,\n",
       "             'LINCO': 12,\n",
       "             'TOYOT': 112,\n",
       "             'CADIL': 9,\n",
       "             'CHRYS': 12,\n",
       "             'FIR': 1,\n",
       "             'GMC': 35,\n",
       "             'HYUND': 35,\n",
       "             'JAGUA': 3,\n",
       "             'JEEP': 22,\n",
       "             'LEXUS': 26,\n",
       "             'ME/BE': 38,\n",
       "             'MERCU': 4,\n",
       "             'MITSU': 11,\n",
       "             'NISSA': 70,\n",
       "             'HIN': 6,\n",
       "             'NS/OT': 18,\n",
       "             'WORKH': 2,\n",
       "             'ACURA': 12,\n",
       "             'AUDI': 12,\n",
       "             'INTER': 25,\n",
       "             'ISUZU': 10,\n",
       "             'KENWO': 5,\n",
       "             'KIA': 8,\n",
       "             'OLDSM': 1,\n",
       "             'SUBAR': 18,\n",
       "             'VOLVO': 12,\n",
       "             'SATUR': 2,\n",
       "             'SMART': 3,\n",
       "             'INFIN': 13,\n",
       "             'PETER': 1,\n",
       "             '': 5,\n",
       "             'CITRO': 1,\n",
       "             'ROVER': 5,\n",
       "             'BUICK': 5,\n",
       "             'GEO': 1,\n",
       "             'MAZDA': 5,\n",
       "             'PORSC': 3,\n",
       "             'VOLKS': 8,\n",
       "             'YAMAH': 1,\n",
       "             'BSA': 1,\n",
       "             'MINI': 1,\n",
       "             'PONTI': 1,\n",
       "             'SPRI': 1,\n",
       "             'PLYMO': 1,\n",
       "             'SCION': 2,\n",
       "             'UPS': 1,\n",
       "             'FIAT': 1,\n",
       "             'UD': 1,\n",
       "             'UTILI': 1,\n",
       "             'GMCQ': 1,\n",
       "             'SAAB': 2,\n",
       "             'HINO': 2,\n",
       "             'STAR': 1,\n",
       "             'AM/T': 1,\n",
       "             'MI/F': 1})"
      ]
     },
     "execution_count": 55,
     "metadata": {},
     "output_type": "execute_result"
    }
   ],
   "source": [
    "violations_by_make"
   ]
  }
 ],
 "metadata": {
  "kernelspec": {
   "display_name": "Python 3",
   "language": "python",
   "name": "python3"
  },
  "language_info": {
   "codemirror_mode": {
    "name": "ipython",
    "version": 3
   },
   "file_extension": ".py",
   "mimetype": "text/x-python",
   "name": "python",
   "nbconvert_exporter": "python",
   "pygments_lexer": "ipython3",
   "version": "3.8.10"
  },
  "orig_nbformat": 4
 },
 "nbformat": 4,
 "nbformat_minor": 2
}
