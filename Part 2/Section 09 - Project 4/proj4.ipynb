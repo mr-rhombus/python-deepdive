{
 "cells": [
  {
   "cell_type": "code",
   "execution_count": 1,
   "metadata": {},
   "outputs": [],
   "source": [
    "import utils\n",
    "import constants"
   ]
  },
  {
   "cell_type": "markdown",
   "metadata": {},
   "source": [
    "### Goal 1\n",
    "Create lazy iterators for each of the 4 files that:\n",
    "- return named tuples for each row\n",
    "- cast the values to appropriate data types"
   ]
  },
  {
   "cell_type": "code",
   "execution_count": 2,
   "metadata": {},
   "outputs": [],
   "source": [
    "file_iterators = {}\n",
    "for fname,dtypes,classname in zip(constants.fnames, constants.dtypes, constants.class_names):\n",
    "    f = fname.split('.')[0]\n",
    "    iter_ = utils.process_data(fname, dtypes, classname)\n",
    "    file_iterators[f] = iter_"
   ]
  },
  {
   "cell_type": "markdown",
   "metadata": {},
   "source": [
    "### Goal 2\n",
    "Create a single iterable that combines all data across the 4 files"
   ]
  },
  {
   "cell_type": "code",
   "execution_count": 3,
   "metadata": {},
   "outputs": [],
   "source": [
    "# Get ordered list of unique fields from all CSVs\n",
    "unique_headers = []\n",
    "for f in constants.fnames:\n",
    "    unique_headers.extend(utils.get_headers(f))\n",
    "unique_headers = utils.remove_dupes_from_list(unique_headers)  # remove duplicates while preserving order\n",
    "\n",
    "# Create an iterable containing a single row for each row across all CSVs\n",
    "all_data = utils.combine_multi(*file_iterators.values(), classname='Person', headers=unique_headers)"
   ]
  },
  {
   "cell_type": "markdown",
   "metadata": {},
   "source": [
    "### Goal 3\n",
    "Modify the iterator from **Goal 2** to filter out stale records (i.e. those with a last update date before 3/1/2017)"
   ]
  },
  {
   "cell_type": "code",
   "execution_count": 4,
   "metadata": {},
   "outputs": [],
   "source": [
    "all_data_no_stale = utils.combine_multi_no_stale(*file_iterators.values(), classname='Person', headers=unique_headers)"
   ]
  },
  {
   "cell_type": "code",
   "execution_count": 5,
   "metadata": {},
   "outputs": [],
   "source": [
    "# Using the v2 fn\n",
    "\n",
    "# # Setup\n",
    "# from datetime import datetime\n",
    "# stale_cutoff = datetime(2018, 3, 1)\n",
    "# key = lambda row: row.last_updated >= stale_cutoff\n",
    "\n",
    "# # Filtered data iterator\n",
    "# all_data_no_stale = utils.combine_multi_no_stale_v2(*file_iterators.values(), classname='Person', headers=unique_headers, key=key)"
   ]
  },
  {
   "cell_type": "code",
   "execution_count": 6,
   "metadata": {},
   "outputs": [
    {
     "data": {
      "text/plain": [
       "True"
      ]
     },
     "execution_count": 6,
     "metadata": {},
     "output_type": "execute_result"
    }
   ],
   "source": [
    "# Confirm earliest \"last_updated\" date is 3/1/2017\n",
    "from datetime import datetime\n",
    "stale_cutoff = datetime.strptime('3/1/2017', '%m/%d/%Y')\n",
    "# all(dat.last_updated >= stale_cutoff for dat in list(all_data_no_stale))"
   ]
  },
  {
   "cell_type": "markdown",
   "metadata": {},
   "source": [
    "### Goal 4\n",
    "Generate lists of number of car makes by gender.\n",
    "\n",
    "Female top owned cars should be Ford and Chevrolet (42 each). Male top owned cars should be Ford (40)"
   ]
  },
  {
   "cell_type": "code",
   "execution_count": 12,
   "metadata": {},
   "outputs": [],
   "source": [
    "from collections import defaultdict\n",
    "\n",
    "all_data_no_stale = utils.combine_multi_no_stale(*file_iterators.values(), classname='Person', headers=unique_headers)\n",
    "\n",
    "cars_m = defaultdict(int)\n",
    "cars_f = defaultdict(int)\n",
    "\n",
    "for person in all_data_no_stale:\n",
    "    if person.gender == 'Male':\n",
    "        cars_m[person.vehicle_make] += 1\n",
    "    else:\n",
    "        cars_f[person.vehicle_make] += 1"
   ]
  },
  {
   "cell_type": "code",
   "execution_count": 8,
   "metadata": {},
   "outputs": [
    {
     "data": {
      "text/plain": [
       "['Ford',\n",
       " 'Chevrolet',\n",
       " 'GMC',\n",
       " 'Mitsubishi',\n",
       " 'Dodge',\n",
       " 'Toyota',\n",
       " 'Mercedes-Benz',\n",
       " 'Volkswagen',\n",
       " 'Audi',\n",
       " 'Buick',\n",
       " 'Mazda',\n",
       " 'BMW',\n",
       " 'Pontiac',\n",
       " 'Mercury',\n",
       " 'Volvo',\n",
       " 'Cadillac',\n",
       " 'Honda',\n",
       " 'Subaru',\n",
       " 'Hyundai',\n",
       " 'Saab',\n",
       " 'Acura',\n",
       " 'Infiniti',\n",
       " 'Jeep',\n",
       " 'Lexus',\n",
       " 'Nissan',\n",
       " 'Oldsmobile',\n",
       " 'Lincoln',\n",
       " 'Kia',\n",
       " 'Lotus',\n",
       " 'Jaguar',\n",
       " 'Plymouth',\n",
       " 'Porsche',\n",
       " 'Lamborghini',\n",
       " 'Aston Martin',\n",
       " 'Isuzu',\n",
       " 'Maserati',\n",
       " 'Chrysler',\n",
       " 'Saturn',\n",
       " 'Bentley',\n",
       " 'Land Rover',\n",
       " 'Maybach',\n",
       " 'Panoz',\n",
       " 'Geo',\n",
       " 'Suzuki',\n",
       " 'Scion',\n",
       " 'Jensen',\n",
       " 'Smart',\n",
       " 'Rolls-Royce',\n",
       " 'Corbin',\n",
       " 'Daewoo',\n",
       " 'Aptera',\n",
       " 'Eagle',\n",
       " 'Austin']"
      ]
     },
     "execution_count": 8,
     "metadata": {},
     "output_type": "execute_result"
    }
   ],
   "source": [
    "sorted(cars_m, key=lambda x: cars_m[x], reverse=True)"
   ]
  },
  {
   "cell_type": "code",
   "execution_count": 9,
   "metadata": {},
   "outputs": [
    {
     "data": {
      "text/plain": [
       "40"
      ]
     },
     "execution_count": 9,
     "metadata": {},
     "output_type": "execute_result"
    }
   ],
   "source": [
    "cars_m['Ford']"
   ]
  },
  {
   "cell_type": "code",
   "execution_count": 10,
   "metadata": {},
   "outputs": [
    {
     "data": {
      "text/plain": [
       "['Chevrolet',\n",
       " 'Ford',\n",
       " 'GMC',\n",
       " 'Mitsubishi',\n",
       " 'Toyota',\n",
       " 'Mercedes-Benz',\n",
       " 'Dodge',\n",
       " 'Lexus',\n",
       " 'Pontiac',\n",
       " 'Volvo',\n",
       " 'Audi',\n",
       " 'Mazda',\n",
       " 'BMW',\n",
       " 'Nissan',\n",
       " 'Suzuki',\n",
       " 'Buick',\n",
       " 'Volkswagen',\n",
       " 'Acura',\n",
       " 'Kia',\n",
       " 'Infiniti',\n",
       " 'Land Rover',\n",
       " 'Honda',\n",
       " 'Oldsmobile',\n",
       " 'Chrysler',\n",
       " 'Cadillac',\n",
       " 'Subaru',\n",
       " 'Jeep',\n",
       " 'Mercury',\n",
       " 'Lotus',\n",
       " 'Bentley',\n",
       " 'Hyundai',\n",
       " 'Lincoln',\n",
       " 'Isuzu',\n",
       " 'Plymouth',\n",
       " 'Saturn',\n",
       " 'Porsche',\n",
       " 'Saab',\n",
       " 'Jaguar',\n",
       " 'Scion',\n",
       " 'Aston Martin',\n",
       " 'Lamborghini',\n",
       " 'Bugatti',\n",
       " 'Rolls-Royce',\n",
       " 'Eagle',\n",
       " 'Geo',\n",
       " 'Morgan',\n",
       " 'Austin',\n",
       " 'Panoz']"
      ]
     },
     "execution_count": 10,
     "metadata": {},
     "output_type": "execute_result"
    }
   ],
   "source": [
    "sorted(cars_f, key=lambda x: cars_f[x], reverse=True)"
   ]
  },
  {
   "cell_type": "code",
   "execution_count": 11,
   "metadata": {},
   "outputs": [
    {
     "data": {
      "text/plain": [
       "(42, 42)"
      ]
     },
     "execution_count": 11,
     "metadata": {},
     "output_type": "execute_result"
    }
   ],
   "source": [
    "cars_f['Chevrolet'], cars_f['Chevrolet']"
   ]
  }
 ],
 "metadata": {
  "kernelspec": {
   "display_name": "Python 3",
   "language": "python",
   "name": "python3"
  },
  "language_info": {
   "codemirror_mode": {
    "name": "ipython",
    "version": 3
   },
   "file_extension": ".py",
   "mimetype": "text/x-python",
   "name": "python",
   "nbconvert_exporter": "python",
   "pygments_lexer": "ipython3",
   "version": "3.8.10"
  },
  "orig_nbformat": 4
 },
 "nbformat": 4,
 "nbformat_minor": 2
}
